{
 "cells": [
  {
   "cell_type": "markdown",
   "id": "5f18be26",
   "metadata": {},
   "source": [
    "# Random Forest w/ Titanic Use Case"
   ]
  },
  {
   "cell_type": "markdown",
   "id": "7429ba2e",
   "metadata": {},
   "source": [
    "Using a sample dataset of the passagers of the Titanic w/ their characteristics at that moment as the training dataset, we would like to predict which passangers survived with a random forest machine learning model. The aim of the project is to design a security protocol for future transatlantic trips.\n",
    "\n",
    "You can introduce any comments, analysis and visualizations."
   ]
  },
  {
   "cell_type": "markdown",
   "id": "86dce459",
   "metadata": {},
   "source": [
    " "
   ]
  },
  {
   "cell_type": "markdown",
   "id": "47ca89f3",
   "metadata": {},
   "source": [
    "## Imports:"
   ]
  },
  {
   "cell_type": "markdown",
   "id": "2bf37dc2",
   "metadata": {},
   "source": [
    "You can use as many libraries as you need"
   ]
  },
  {
   "cell_type": "code",
   "execution_count": 472,
   "id": "899ac043",
   "metadata": {},
   "outputs": [],
   "source": [
    "import pandas as pd\n",
    "import numpy as np\n",
    "import sklearn\n",
    "from sklearn.model_selection import train_test_split\n",
    "from sklearn.ensemble import RandomForestClassifier\n",
    "from sklearn.metrics import confusion_matrix, classification_report\n",
    "from treeinterpreter import treeinterpreter as ti\n",
    "import matplotlib.pyplot as plt\n",
    "import random"
   ]
  },
  {
   "cell_type": "markdown",
   "id": "92c90105",
   "metadata": {},
   "source": [
    " "
   ]
  },
  {
   "cell_type": "markdown",
   "id": "f972ad91",
   "metadata": {},
   "source": [
    "  "
   ]
  },
  {
   "cell_type": "markdown",
   "id": "7676f99b",
   "metadata": {},
   "source": [
    "## 1. Read and Visualize Data:"
   ]
  },
  {
   "cell_type": "code",
   "execution_count": 473,
   "id": "acafa632",
   "metadata": {
    "scrolled": true
   },
   "outputs": [
    {
     "data": {
      "text/html": [
       "<div>\n",
       "<style scoped>\n",
       "    .dataframe tbody tr th:only-of-type {\n",
       "        vertical-align: middle;\n",
       "    }\n",
       "\n",
       "    .dataframe tbody tr th {\n",
       "        vertical-align: top;\n",
       "    }\n",
       "\n",
       "    .dataframe thead th {\n",
       "        text-align: right;\n",
       "    }\n",
       "</style>\n",
       "<table border=\"1\" class=\"dataframe\">\n",
       "  <thead>\n",
       "    <tr style=\"text-align: right;\">\n",
       "      <th></th>\n",
       "      <th>Survived</th>\n",
       "      <th>Pclass</th>\n",
       "      <th>Name</th>\n",
       "      <th>Sex</th>\n",
       "      <th>Age</th>\n",
       "      <th>Siblings/Spouses Aboard</th>\n",
       "      <th>Parents/Children Aboard</th>\n",
       "      <th>Fare</th>\n",
       "    </tr>\n",
       "  </thead>\n",
       "  <tbody>\n",
       "    <tr>\n",
       "      <th>0</th>\n",
       "      <td>0</td>\n",
       "      <td>3</td>\n",
       "      <td>Mr. Owen Harris Braund</td>\n",
       "      <td>male</td>\n",
       "      <td>22.0</td>\n",
       "      <td>1</td>\n",
       "      <td>0</td>\n",
       "      <td>7.2500</td>\n",
       "    </tr>\n",
       "    <tr>\n",
       "      <th>1</th>\n",
       "      <td>1</td>\n",
       "      <td>1</td>\n",
       "      <td>Mrs. John Bradley (Florence Briggs Thayer) Cum...</td>\n",
       "      <td>female</td>\n",
       "      <td>38.0</td>\n",
       "      <td>1</td>\n",
       "      <td>0</td>\n",
       "      <td>71.2833</td>\n",
       "    </tr>\n",
       "    <tr>\n",
       "      <th>2</th>\n",
       "      <td>1</td>\n",
       "      <td>3</td>\n",
       "      <td>Miss. Laina Heikkinen</td>\n",
       "      <td>female</td>\n",
       "      <td>26.0</td>\n",
       "      <td>0</td>\n",
       "      <td>0</td>\n",
       "      <td>7.9250</td>\n",
       "    </tr>\n",
       "    <tr>\n",
       "      <th>3</th>\n",
       "      <td>1</td>\n",
       "      <td>1</td>\n",
       "      <td>Mrs. Jacques Heath (Lily May Peel) Futrelle</td>\n",
       "      <td>female</td>\n",
       "      <td>35.0</td>\n",
       "      <td>1</td>\n",
       "      <td>0</td>\n",
       "      <td>53.1000</td>\n",
       "    </tr>\n",
       "    <tr>\n",
       "      <th>4</th>\n",
       "      <td>0</td>\n",
       "      <td>3</td>\n",
       "      <td>Mr. William Henry Allen</td>\n",
       "      <td>male</td>\n",
       "      <td>35.0</td>\n",
       "      <td>0</td>\n",
       "      <td>0</td>\n",
       "      <td>8.0500</td>\n",
       "    </tr>\n",
       "  </tbody>\n",
       "</table>\n",
       "</div>"
      ],
      "text/plain": [
       "   Survived  Pclass                                               Name  \\\n",
       "0         0       3                             Mr. Owen Harris Braund   \n",
       "1         1       1  Mrs. John Bradley (Florence Briggs Thayer) Cum...   \n",
       "2         1       3                              Miss. Laina Heikkinen   \n",
       "3         1       1        Mrs. Jacques Heath (Lily May Peel) Futrelle   \n",
       "4         0       3                            Mr. William Henry Allen   \n",
       "\n",
       "      Sex   Age  Siblings/Spouses Aboard  Parents/Children Aboard     Fare  \n",
       "0    male  22.0                        1                        0   7.2500  \n",
       "1  female  38.0                        1                        0  71.2833  \n",
       "2  female  26.0                        0                        0   7.9250  \n",
       "3  female  35.0                        1                        0  53.1000  \n",
       "4    male  35.0                        0                        0   8.0500  "
      ]
     },
     "execution_count": 473,
     "metadata": {},
     "output_type": "execute_result"
    }
   ],
   "source": [
    "df = pd.read_csv('./titanic.csv')\n",
    "df.head()"
   ]
  },
  {
   "cell_type": "code",
   "execution_count": 474,
   "id": "dbb7a84a",
   "metadata": {},
   "outputs": [
    {
     "name": "stdout",
     "output_type": "stream",
     "text": [
      "(887, 8)\n",
      "<class 'pandas.core.frame.DataFrame'>\n",
      "RangeIndex: 887 entries, 0 to 886\n",
      "Data columns (total 8 columns):\n",
      " #   Column                   Non-Null Count  Dtype  \n",
      "---  ------                   --------------  -----  \n",
      " 0   Survived                 887 non-null    int64  \n",
      " 1   Pclass                   887 non-null    int64  \n",
      " 2   Name                     887 non-null    object \n",
      " 3   Sex                      887 non-null    object \n",
      " 4   Age                      887 non-null    float64\n",
      " 5   Siblings/Spouses Aboard  887 non-null    int64  \n",
      " 6   Parents/Children Aboard  887 non-null    int64  \n",
      " 7   Fare                     887 non-null    float64\n",
      "dtypes: float64(2), int64(4), object(2)\n",
      "memory usage: 55.6+ KB\n"
     ]
    },
    {
     "data": {
      "text/plain": [
       "Survived                   0\n",
       "Pclass                     0\n",
       "Name                       0\n",
       "Sex                        0\n",
       "Age                        0\n",
       "Siblings/Spouses Aboard    0\n",
       "Parents/Children Aboard    0\n",
       "Fare                       0\n",
       "dtype: int64"
      ]
     },
     "execution_count": 474,
     "metadata": {},
     "output_type": "execute_result"
    }
   ],
   "source": [
    "print(df.shape)\n",
    "df.info()\n",
    "df.isnull().sum()"
   ]
  },
  {
   "cell_type": "markdown",
   "id": "05a09555",
   "metadata": {},
   "source": [
    "### Name"
   ]
  },
  {
   "cell_type": "code",
   "execution_count": 475,
   "id": "593698b9",
   "metadata": {
    "scrolled": true
   },
   "outputs": [
    {
     "data": {
      "text/html": [
       "<div>\n",
       "<style scoped>\n",
       "    .dataframe tbody tr th:only-of-type {\n",
       "        vertical-align: middle;\n",
       "    }\n",
       "\n",
       "    .dataframe tbody tr th {\n",
       "        vertical-align: top;\n",
       "    }\n",
       "\n",
       "    .dataframe thead th {\n",
       "        text-align: right;\n",
       "    }\n",
       "</style>\n",
       "<table border=\"1\" class=\"dataframe\">\n",
       "  <thead>\n",
       "    <tr style=\"text-align: right;\">\n",
       "      <th></th>\n",
       "      <th>Survived</th>\n",
       "      <th>Pclass</th>\n",
       "      <th>Sex</th>\n",
       "      <th>Age</th>\n",
       "      <th>Siblings/Spouses Aboard</th>\n",
       "      <th>Parents/Children Aboard</th>\n",
       "      <th>Fare</th>\n",
       "    </tr>\n",
       "  </thead>\n",
       "  <tbody>\n",
       "    <tr>\n",
       "      <th>0</th>\n",
       "      <td>0</td>\n",
       "      <td>3</td>\n",
       "      <td>male</td>\n",
       "      <td>22.0</td>\n",
       "      <td>1</td>\n",
       "      <td>0</td>\n",
       "      <td>7.2500</td>\n",
       "    </tr>\n",
       "    <tr>\n",
       "      <th>1</th>\n",
       "      <td>1</td>\n",
       "      <td>1</td>\n",
       "      <td>female</td>\n",
       "      <td>38.0</td>\n",
       "      <td>1</td>\n",
       "      <td>0</td>\n",
       "      <td>71.2833</td>\n",
       "    </tr>\n",
       "    <tr>\n",
       "      <th>2</th>\n",
       "      <td>1</td>\n",
       "      <td>3</td>\n",
       "      <td>female</td>\n",
       "      <td>26.0</td>\n",
       "      <td>0</td>\n",
       "      <td>0</td>\n",
       "      <td>7.9250</td>\n",
       "    </tr>\n",
       "    <tr>\n",
       "      <th>3</th>\n",
       "      <td>1</td>\n",
       "      <td>1</td>\n",
       "      <td>female</td>\n",
       "      <td>35.0</td>\n",
       "      <td>1</td>\n",
       "      <td>0</td>\n",
       "      <td>53.1000</td>\n",
       "    </tr>\n",
       "    <tr>\n",
       "      <th>4</th>\n",
       "      <td>0</td>\n",
       "      <td>3</td>\n",
       "      <td>male</td>\n",
       "      <td>35.0</td>\n",
       "      <td>0</td>\n",
       "      <td>0</td>\n",
       "      <td>8.0500</td>\n",
       "    </tr>\n",
       "  </tbody>\n",
       "</table>\n",
       "</div>"
      ],
      "text/plain": [
       "   Survived  Pclass     Sex   Age  Siblings/Spouses Aboard  \\\n",
       "0         0       3    male  22.0                        1   \n",
       "1         1       1  female  38.0                        1   \n",
       "2         1       3  female  26.0                        0   \n",
       "3         1       1  female  35.0                        1   \n",
       "4         0       3    male  35.0                        0   \n",
       "\n",
       "   Parents/Children Aboard     Fare  \n",
       "0                        0   7.2500  \n",
       "1                        0  71.2833  \n",
       "2                        0   7.9250  \n",
       "3                        0  53.1000  \n",
       "4                        0   8.0500  "
      ]
     },
     "execution_count": 475,
     "metadata": {},
     "output_type": "execute_result"
    }
   ],
   "source": [
    "df = df.drop(['Name'], axis=1)\n",
    "df.head()"
   ]
  },
  {
   "cell_type": "markdown",
   "id": "a9c52d10",
   "metadata": {},
   "source": [
    "We drop the whole male attribute. We could leave only the familly name (only trully usefull data) but it would be a non worth-solving problem when converting it to one-hot encoding."
   ]
  },
  {
   "cell_type": "markdown",
   "id": "e1652e9b",
   "metadata": {},
   "source": [
    "### PClass"
   ]
  },
  {
   "cell_type": "code",
   "execution_count": 476,
   "id": "3db81cda",
   "metadata": {},
   "outputs": [],
   "source": [
    "pclass_1 = df[df['Pclass'] == 1]\n",
    "pclass_2 = df[df['Pclass'] == 2]\n",
    "pclass_3 = df[df['Pclass'] == 3]"
   ]
  },
  {
   "cell_type": "code",
   "execution_count": 477,
   "id": "4fa6ed1d",
   "metadata": {
    "scrolled": false
   },
   "outputs": [
    {
     "name": "stdout",
     "output_type": "stream",
     "text": [
      "-------- Passanger Class 1 Fare info --------\n",
      "count    216.000000\n",
      "mean      84.154687\n",
      "std       78.380373\n",
      "min        0.000000\n",
      "25%       30.923950\n",
      "50%       60.287500\n",
      "75%       93.500000\n",
      "max      512.329200\n",
      "Name: Fare, dtype: float64\n",
      "-------- Passanger Class 2 Fare info --------\n",
      "count    184.000000\n",
      "mean      20.662183\n",
      "std       13.417399\n",
      "min        0.000000\n",
      "25%       13.000000\n",
      "50%       14.250000\n",
      "75%       26.000000\n",
      "max       73.500000\n",
      "Name: Fare, dtype: float64\n",
      "-------- Passanger Class 3 Fare info --------\n",
      "count    487.000000\n",
      "mean      13.707707\n",
      "std       11.817309\n",
      "min        0.000000\n",
      "25%        7.750000\n",
      "50%        8.050000\n",
      "75%       15.500000\n",
      "max       69.550000\n",
      "Name: Fare, dtype: float64\n"
     ]
    }
   ],
   "source": [
    "print('-------- Passanger Class 1 Fare info --------')\n",
    "print(pclass_1['Fare'].describe())\n",
    "print('-------- Passanger Class 2 Fare info --------')\n",
    "print(pclass_2['Fare'].describe())\n",
    "print('-------- Passanger Class 3 Fare info --------')\n",
    "print(pclass_3['Fare'].describe())"
   ]
  },
  {
   "cell_type": "markdown",
   "id": "0fb92cf1",
   "metadata": {},
   "source": [
    "We can see how the fare's prices are most likely related to the passenger's class."
   ]
  },
  {
   "cell_type": "code",
   "execution_count": 478,
   "id": "433be1c3",
   "metadata": {},
   "outputs": [
    {
     "data": {
      "text/html": [
       "<div>\n",
       "<style scoped>\n",
       "    .dataframe tbody tr th:only-of-type {\n",
       "        vertical-align: middle;\n",
       "    }\n",
       "\n",
       "    .dataframe tbody tr th {\n",
       "        vertical-align: top;\n",
       "    }\n",
       "\n",
       "    .dataframe thead th {\n",
       "        text-align: right;\n",
       "    }\n",
       "</style>\n",
       "<table border=\"1\" class=\"dataframe\">\n",
       "  <thead>\n",
       "    <tr style=\"text-align: right;\">\n",
       "      <th></th>\n",
       "      <th>Pclass</th>\n",
       "      <th>Sex</th>\n",
       "      <th>Age</th>\n",
       "      <th>Siblings/Spouses Aboard</th>\n",
       "      <th>Parents/Children Aboard</th>\n",
       "      <th>Fare</th>\n",
       "    </tr>\n",
       "    <tr>\n",
       "      <th>Survived</th>\n",
       "      <th></th>\n",
       "      <th></th>\n",
       "      <th></th>\n",
       "      <th></th>\n",
       "      <th></th>\n",
       "      <th></th>\n",
       "    </tr>\n",
       "  </thead>\n",
       "  <tbody>\n",
       "    <tr>\n",
       "      <th>0</th>\n",
       "      <td>545</td>\n",
       "      <td>545</td>\n",
       "      <td>545</td>\n",
       "      <td>545</td>\n",
       "      <td>545</td>\n",
       "      <td>545</td>\n",
       "    </tr>\n",
       "    <tr>\n",
       "      <th>1</th>\n",
       "      <td>342</td>\n",
       "      <td>342</td>\n",
       "      <td>342</td>\n",
       "      <td>342</td>\n",
       "      <td>342</td>\n",
       "      <td>342</td>\n",
       "    </tr>\n",
       "  </tbody>\n",
       "</table>\n",
       "</div>"
      ],
      "text/plain": [
       "          Pclass  Sex  Age  Siblings/Spouses Aboard  Parents/Children Aboard  \\\n",
       "Survived                                                                       \n",
       "0            545  545  545                      545                      545   \n",
       "1            342  342  342                      342                      342   \n",
       "\n",
       "          Fare  \n",
       "Survived        \n",
       "0          545  \n",
       "1          342  "
      ]
     },
     "execution_count": 478,
     "metadata": {},
     "output_type": "execute_result"
    }
   ],
   "source": [
    "df.groupby('Survived').count()"
   ]
  },
  {
   "cell_type": "code",
   "execution_count": 479,
   "id": "6597b3b7",
   "metadata": {},
   "outputs": [
    {
     "data": {
      "text/html": [
       "<div>\n",
       "<style scoped>\n",
       "    .dataframe tbody tr th:only-of-type {\n",
       "        vertical-align: middle;\n",
       "    }\n",
       "\n",
       "    .dataframe tbody tr th {\n",
       "        vertical-align: top;\n",
       "    }\n",
       "\n",
       "    .dataframe thead th {\n",
       "        text-align: right;\n",
       "    }\n",
       "</style>\n",
       "<table border=\"1\" class=\"dataframe\">\n",
       "  <thead>\n",
       "    <tr style=\"text-align: right;\">\n",
       "      <th></th>\n",
       "      <th>Pclass</th>\n",
       "      <th>Sex</th>\n",
       "      <th>Age</th>\n",
       "      <th>Siblings/Spouses Aboard</th>\n",
       "      <th>Parents/Children Aboard</th>\n",
       "      <th>Fare</th>\n",
       "    </tr>\n",
       "    <tr>\n",
       "      <th>Survived</th>\n",
       "      <th></th>\n",
       "      <th></th>\n",
       "      <th></th>\n",
       "      <th></th>\n",
       "      <th></th>\n",
       "      <th></th>\n",
       "    </tr>\n",
       "  </thead>\n",
       "  <tbody>\n",
       "    <tr>\n",
       "      <th>0</th>\n",
       "      <td>80</td>\n",
       "      <td>80</td>\n",
       "      <td>80</td>\n",
       "      <td>80</td>\n",
       "      <td>80</td>\n",
       "      <td>80</td>\n",
       "    </tr>\n",
       "    <tr>\n",
       "      <th>1</th>\n",
       "      <td>136</td>\n",
       "      <td>136</td>\n",
       "      <td>136</td>\n",
       "      <td>136</td>\n",
       "      <td>136</td>\n",
       "      <td>136</td>\n",
       "    </tr>\n",
       "  </tbody>\n",
       "</table>\n",
       "</div>"
      ],
      "text/plain": [
       "          Pclass  Sex  Age  Siblings/Spouses Aboard  Parents/Children Aboard  \\\n",
       "Survived                                                                       \n",
       "0             80   80   80                       80                       80   \n",
       "1            136  136  136                      136                      136   \n",
       "\n",
       "          Fare  \n",
       "Survived        \n",
       "0           80  \n",
       "1          136  "
      ]
     },
     "execution_count": 479,
     "metadata": {},
     "output_type": "execute_result"
    }
   ],
   "source": [
    "pclass_1.groupby('Survived').count()"
   ]
  },
  {
   "cell_type": "code",
   "execution_count": 480,
   "id": "426efeb6",
   "metadata": {},
   "outputs": [
    {
     "data": {
      "text/html": [
       "<div>\n",
       "<style scoped>\n",
       "    .dataframe tbody tr th:only-of-type {\n",
       "        vertical-align: middle;\n",
       "    }\n",
       "\n",
       "    .dataframe tbody tr th {\n",
       "        vertical-align: top;\n",
       "    }\n",
       "\n",
       "    .dataframe thead th {\n",
       "        text-align: right;\n",
       "    }\n",
       "</style>\n",
       "<table border=\"1\" class=\"dataframe\">\n",
       "  <thead>\n",
       "    <tr style=\"text-align: right;\">\n",
       "      <th></th>\n",
       "      <th>Pclass</th>\n",
       "      <th>Sex</th>\n",
       "      <th>Age</th>\n",
       "      <th>Siblings/Spouses Aboard</th>\n",
       "      <th>Parents/Children Aboard</th>\n",
       "      <th>Fare</th>\n",
       "    </tr>\n",
       "    <tr>\n",
       "      <th>Survived</th>\n",
       "      <th></th>\n",
       "      <th></th>\n",
       "      <th></th>\n",
       "      <th></th>\n",
       "      <th></th>\n",
       "      <th></th>\n",
       "    </tr>\n",
       "  </thead>\n",
       "  <tbody>\n",
       "    <tr>\n",
       "      <th>0</th>\n",
       "      <td>97</td>\n",
       "      <td>97</td>\n",
       "      <td>97</td>\n",
       "      <td>97</td>\n",
       "      <td>97</td>\n",
       "      <td>97</td>\n",
       "    </tr>\n",
       "    <tr>\n",
       "      <th>1</th>\n",
       "      <td>87</td>\n",
       "      <td>87</td>\n",
       "      <td>87</td>\n",
       "      <td>87</td>\n",
       "      <td>87</td>\n",
       "      <td>87</td>\n",
       "    </tr>\n",
       "  </tbody>\n",
       "</table>\n",
       "</div>"
      ],
      "text/plain": [
       "          Pclass  Sex  Age  Siblings/Spouses Aboard  Parents/Children Aboard  \\\n",
       "Survived                                                                       \n",
       "0             97   97   97                       97                       97   \n",
       "1             87   87   87                       87                       87   \n",
       "\n",
       "          Fare  \n",
       "Survived        \n",
       "0           97  \n",
       "1           87  "
      ]
     },
     "execution_count": 480,
     "metadata": {},
     "output_type": "execute_result"
    }
   ],
   "source": [
    "pclass_2.groupby('Survived').count()"
   ]
  },
  {
   "cell_type": "code",
   "execution_count": 481,
   "id": "04929572",
   "metadata": {},
   "outputs": [
    {
     "data": {
      "text/html": [
       "<div>\n",
       "<style scoped>\n",
       "    .dataframe tbody tr th:only-of-type {\n",
       "        vertical-align: middle;\n",
       "    }\n",
       "\n",
       "    .dataframe tbody tr th {\n",
       "        vertical-align: top;\n",
       "    }\n",
       "\n",
       "    .dataframe thead th {\n",
       "        text-align: right;\n",
       "    }\n",
       "</style>\n",
       "<table border=\"1\" class=\"dataframe\">\n",
       "  <thead>\n",
       "    <tr style=\"text-align: right;\">\n",
       "      <th></th>\n",
       "      <th>Pclass</th>\n",
       "      <th>Sex</th>\n",
       "      <th>Age</th>\n",
       "      <th>Siblings/Spouses Aboard</th>\n",
       "      <th>Parents/Children Aboard</th>\n",
       "      <th>Fare</th>\n",
       "    </tr>\n",
       "    <tr>\n",
       "      <th>Survived</th>\n",
       "      <th></th>\n",
       "      <th></th>\n",
       "      <th></th>\n",
       "      <th></th>\n",
       "      <th></th>\n",
       "      <th></th>\n",
       "    </tr>\n",
       "  </thead>\n",
       "  <tbody>\n",
       "    <tr>\n",
       "      <th>0</th>\n",
       "      <td>368</td>\n",
       "      <td>368</td>\n",
       "      <td>368</td>\n",
       "      <td>368</td>\n",
       "      <td>368</td>\n",
       "      <td>368</td>\n",
       "    </tr>\n",
       "    <tr>\n",
       "      <th>1</th>\n",
       "      <td>119</td>\n",
       "      <td>119</td>\n",
       "      <td>119</td>\n",
       "      <td>119</td>\n",
       "      <td>119</td>\n",
       "      <td>119</td>\n",
       "    </tr>\n",
       "  </tbody>\n",
       "</table>\n",
       "</div>"
      ],
      "text/plain": [
       "          Pclass  Sex  Age  Siblings/Spouses Aboard  Parents/Children Aboard  \\\n",
       "Survived                                                                       \n",
       "0            368  368  368                      368                      368   \n",
       "1            119  119  119                      119                      119   \n",
       "\n",
       "          Fare  \n",
       "Survived        \n",
       "0          368  \n",
       "1          119  "
      ]
     },
     "execution_count": 481,
     "metadata": {},
     "output_type": "execute_result"
    }
   ],
   "source": [
    "pclass_3.groupby('Survived').count()"
   ]
  },
  {
   "cell_type": "markdown",
   "id": "d59e9d69",
   "metadata": {},
   "source": [
    "The ammount of passengers within the same class that survived is also quite revelative"
   ]
  },
  {
   "cell_type": "markdown",
   "id": "1c9c2230",
   "metadata": {},
   "source": [
    "### Age"
   ]
  },
  {
   "cell_type": "code",
   "execution_count": 482,
   "id": "edcdcf19",
   "metadata": {},
   "outputs": [
    {
     "data": {
      "image/png": "[encoded data removed]",
      "text/plain": [
       "<Figure size 576x720 with 2 Axes>"
      ]
     },
     "metadata": {
      "needs_background": "light"
     },
     "output_type": "display_data"
    }
   ],
   "source": [
    "fig = df.hist(column='Age', bins=20, figsize=(8,10), layout=(2,1), by='Survived', sharex=True, sharey=True, zorder=2, rwidth=0.9)\n",
    "#Set plot labels\n",
    "for i,x in enumerate(fig):\n",
    "    x.set_xlabel('Age', labelpad=50, weight='bold', size=12)\n",
    "    x.set_ylabel('Quantity', labelpad=50, weight='bold', size=12)\n",
    "    if i == 0:\n",
    "        x.set_title('Defunctions', weight='bold', size=12)\n",
    "    else:\n",
    "        x.set_title('Survivors', weight='bold', size=12)"
   ]
  },
  {
   "cell_type": "markdown",
   "id": "90a10ea7",
   "metadata": {},
   "source": [
    "We can't find any general relation between age and survival rate with a couple specific exeptions."
   ]
  },
  {
   "cell_type": "markdown",
   "id": "7dcaab86",
   "metadata": {},
   "source": [
    "### Sex"
   ]
  },
  {
   "cell_type": "code",
   "execution_count": 483,
   "id": "578a8ab8",
   "metadata": {},
   "outputs": [
    {
     "data": {
      "image/png": "[encoded data removed]",
      "text/plain": [
       "<Figure size 864x432 with 2 Axes>"
      ]
     },
     "metadata": {
      "needs_background": "light"
     },
     "output_type": "display_data"
    }
   ],
   "source": [
    "fig = df.hist(column='Sex', bins=2, figsize=(12,6), layout=(1,2), by='Survived', sharex=True, sharey=True, zorder=2, rwidth=0.9)\n",
    "#Set plot labels\n",
    "for i,x in enumerate(fig):\n",
    "    x.set_xlabel('Age', labelpad=50, weight='bold', size=12)\n",
    "    x.set_ylabel('Quantity', labelpad=50, weight='bold', size=12)\n",
    "    if i == 0:\n",
    "        x.set_title('Defunctions', weight='bold', size=12)\n",
    "    else:\n",
    "        x.set_title('Survivors', weight='bold', size=12)"
   ]
  },
  {
   "cell_type": "markdown",
   "id": "7618cbe9",
   "metadata": {},
   "source": [
    "We observe females had a clearly greater suvival ratio than males."
   ]
  },
  {
   "cell_type": "markdown",
   "id": "03b95fda",
   "metadata": {},
   "source": [
    "### Fare"
   ]
  },
  {
   "cell_type": "code",
   "execution_count": 484,
   "id": "4b80bc6d",
   "metadata": {},
   "outputs": [
    {
     "data": {
      "image/png": "[encoded data removed]",
      "text/plain": [
       "<Figure size 576x720 with 2 Axes>"
      ]
     },
     "metadata": {
      "needs_background": "light"
     },
     "output_type": "display_data"
    }
   ],
   "source": [
    "fig = df.hist(column='Fare', bins=15, figsize=(8,10), layout=(2,1), by='Survived', sharex=True, sharey=True, zorder=2, rwidth=0.9)\n",
    "#Set plot labels\n",
    "for i,x in enumerate(fig):\n",
    "    x.set_xlabel('Fare price', labelpad=50, weight='bold', size=12)\n",
    "    x.set_ylabel('Quantity', labelpad=50, weight='bold', size=12)\n",
    "    if i == 0:\n",
    "        x.set_title('Defunctions', weight='bold', size=12)\n",
    "    else:\n",
    "        x.set_title('Survivors', weight='bold', size=12)"
   ]
  },
  {
   "cell_type": "code",
   "execution_count": 485,
   "id": "9b0ae746",
   "metadata": {},
   "outputs": [
    {
     "data": {
      "text/html": [
       "<div>\n",
       "<style scoped>\n",
       "    .dataframe tbody tr th:only-of-type {\n",
       "        vertical-align: middle;\n",
       "    }\n",
       "\n",
       "    .dataframe tbody tr th {\n",
       "        vertical-align: top;\n",
       "    }\n",
       "\n",
       "    .dataframe thead th {\n",
       "        text-align: right;\n",
       "    }\n",
       "</style>\n",
       "<table border=\"1\" class=\"dataframe\">\n",
       "  <thead>\n",
       "    <tr style=\"text-align: right;\">\n",
       "      <th>Fare</th>\n",
       "      <th>(-0.001, 7.55]</th>\n",
       "      <th>(7.55, 7.858]</th>\n",
       "      <th>(7.858, 8.05]</th>\n",
       "      <th>(8.05, 10.5]</th>\n",
       "      <th>(10.5, 14.454]</th>\n",
       "      <th>(14.454, 22.225]</th>\n",
       "      <th>(22.225, 27.721]</th>\n",
       "      <th>(27.721, 39.688]</th>\n",
       "      <th>(39.688, 77.958]</th>\n",
       "      <th>(77.958, 512.329]</th>\n",
       "    </tr>\n",
       "    <tr>\n",
       "      <th>Survived</th>\n",
       "      <th></th>\n",
       "      <th></th>\n",
       "      <th></th>\n",
       "      <th></th>\n",
       "      <th></th>\n",
       "      <th></th>\n",
       "      <th></th>\n",
       "      <th></th>\n",
       "      <th></th>\n",
       "      <th></th>\n",
       "    </tr>\n",
       "  </thead>\n",
       "  <tbody>\n",
       "    <tr>\n",
       "      <th>0</th>\n",
       "      <td>79</td>\n",
       "      <td>60</td>\n",
       "      <td>85</td>\n",
       "      <td>60</td>\n",
       "      <td>48</td>\n",
       "      <td>50</td>\n",
       "      <td>47</td>\n",
       "      <td>53</td>\n",
       "      <td>42</td>\n",
       "      <td>21</td>\n",
       "    </tr>\n",
       "    <tr>\n",
       "      <th>1</th>\n",
       "      <td>13</td>\n",
       "      <td>26</td>\n",
       "      <td>19</td>\n",
       "      <td>18</td>\n",
       "      <td>36</td>\n",
       "      <td>38</td>\n",
       "      <td>46</td>\n",
       "      <td>33</td>\n",
       "      <td>47</td>\n",
       "      <td>66</td>\n",
       "    </tr>\n",
       "  </tbody>\n",
       "</table>\n",
       "</div>"
      ],
      "text/plain": [
       "Fare      (-0.001, 7.55]  (7.55, 7.858]  (7.858, 8.05]  (8.05, 10.5]  \\\n",
       "Survived                                                               \n",
       "0                     79             60             85            60   \n",
       "1                     13             26             19            18   \n",
       "\n",
       "Fare      (10.5, 14.454]  (14.454, 22.225]  (22.225, 27.721]  \\\n",
       "Survived                                                       \n",
       "0                     48                50                47   \n",
       "1                     36                38                46   \n",
       "\n",
       "Fare      (27.721, 39.688]  (39.688, 77.958]  (77.958, 512.329]  \n",
       "Survived                                                         \n",
       "0                       53                42                 21  \n",
       "1                       33                47                 66  "
      ]
     },
     "execution_count": 485,
     "metadata": {},
     "output_type": "execute_result"
    }
   ],
   "source": [
    "buckets= 0.1*np.arange(0,11)\n",
    "\n",
    "groups = df.groupby(['Survived', pd.qcut(df.Fare, buckets)])\n",
    "groups = groups.size().unstack()\n",
    "groups"
   ]
  },
  {
   "cell_type": "code",
   "execution_count": 486,
   "id": "26c585f6",
   "metadata": {},
   "outputs": [
    {
     "data": {
      "text/plain": [
       "Text(0, 0.5, 'Quantity')"
      ]
     },
     "execution_count": 486,
     "metadata": {},
     "output_type": "execute_result"
    },
    {
     "data": {
      "image/png": "[encoded data removed]",
      "text/plain": [
       "<Figure size 432x432 with 1 Axes>"
      ]
     },
     "metadata": {
      "needs_background": "light"
     },
     "output_type": "display_data"
    }
   ],
   "source": [
    "intervals = np.arange(0,10)\n",
    "\n",
    "# Plot fare survival intervals\n",
    "fig = plt.figure(figsize=(6,6))\n",
    "plt.scatter(intervals, groups.iloc[0], label='Defunctions')\n",
    "plt.scatter(intervals, groups.iloc[1], label='Survivors')\n",
    "plt.title('Fare analysis', weight='bold', size=12)\n",
    "plt.xlabel('- Fare +', labelpad=50, weight='bold', size=12)\n",
    "plt.ylabel('Quantity', labelpad=50, weight='bold', size=12)"
   ]
  },
  {
   "cell_type": "markdown",
   "id": "e5bdf0ea",
   "metadata": {},
   "source": [
    "We can sense some kind of positive correlation when measuring the ammount of survivors for each range of fare prices."
   ]
  },
  {
   "cell_type": "markdown",
   "id": "9ef58b21",
   "metadata": {},
   "source": [
    "### + Conclusions"
   ]
  },
  {
   "cell_type": "markdown",
   "id": "13447290",
   "metadata": {},
   "source": [
    "The dataset we are using describes a list of Titanic passengers and labels them based on wether they survived to it's crashing or not. There isn't any Nan value in the whole dataset and it's size is big enough to get reasonably good results.\n",
    "\n",
    "First, the name colummn has been dropped. We could edit it and only retain the familly name as I think it is the only part we could extract info from but the huge ammount of different categories would cause serious trouble.\n",
    "\n",
    "The passengers are devided in three classes. If we compare the fares of the three different passenger classes we can predict the passengers are divided into classes based on how expensive their fares were, being class 3 the cheapest and class 1 the most expensive. We can also see how based on prices there is a larger average fare gap between class 2 and 3 than between class 1 and 2. Finally, class 3 is the most populated with a bit more than half the entries belonging to it, followed by class 1 with roughly one forth of the entries, ending with class 2 with the remaining entries.\n",
    "\n",
    "Doing some fast calculations, we get than from the whole list of 887 passengers, the survival ratio is of **0.39**. If we check the same value for classes 3 to 1 we get survival ratios of **0.24**, **0.47** and **0.63** respectively.\n",
    "\n",
    "This is what we get if we do some more broad observations based on some histograms: \n",
    "There isn't a general correlation between age and survival ratio but if we look closely we can see the ammount of recently born children that survived is pretty large compared to the ammount that did not. We find the lowest ratio of survival in the ages between **15** and **30**.\n",
    "\n",
    "What refers to the sex of the passangers we clearly see a difference between genres. The ammount of men that didn't survived is hugely greater than the ammount of women that suffered the same fate. In the ammount of passengers that survived we find the oposite tendency. The ammount of women that survived is quite greater than the ammount of men that did.\n",
    "\n",
    "To close this section, comparing the passengers that survived to the ones that did not based on fares we observe that if we group them in equally sized bins the chances of survival are greater the bigger the fares are. The opposite happens with defunctions. The bigger the fares, the lowest the chances of survival.\n",
    "\n",
    "We save possible esplanation of why these things are happening for the final conclusions."
   ]
  },
  {
   "cell_type": "markdown",
   "id": "29425aca",
   "metadata": {},
   "source": [
    "## 2. Train Dataset:"
   ]
  },
  {
   "cell_type": "markdown",
   "id": "a4ec2eb5",
   "metadata": {},
   "source": [
    "### Final preparation"
   ]
  },
  {
   "cell_type": "markdown",
   "id": "c893adf2",
   "metadata": {},
   "source": [
    "Before starting the training we still have to transform the categorical data into numeric"
   ]
  },
  {
   "cell_type": "code",
   "execution_count": 487,
   "id": "91ba5a6c",
   "metadata": {},
   "outputs": [
    {
     "data": {
      "text/html": [
       "<div>\n",
       "<style scoped>\n",
       "    .dataframe tbody tr th:only-of-type {\n",
       "        vertical-align: middle;\n",
       "    }\n",
       "\n",
       "    .dataframe tbody tr th {\n",
       "        vertical-align: top;\n",
       "    }\n",
       "\n",
       "    .dataframe thead th {\n",
       "        text-align: right;\n",
       "    }\n",
       "</style>\n",
       "<table border=\"1\" class=\"dataframe\">\n",
       "  <thead>\n",
       "    <tr style=\"text-align: right;\">\n",
       "      <th></th>\n",
       "      <th>Survived</th>\n",
       "      <th>Age</th>\n",
       "      <th>Siblings/Spouses Aboard</th>\n",
       "      <th>Parents/Children Aboard</th>\n",
       "      <th>Fare</th>\n",
       "      <th>male</th>\n",
       "      <th>Pclass2</th>\n",
       "      <th>Pclass3</th>\n",
       "    </tr>\n",
       "  </thead>\n",
       "  <tbody>\n",
       "    <tr>\n",
       "      <th>0</th>\n",
       "      <td>0</td>\n",
       "      <td>22.0</td>\n",
       "      <td>1</td>\n",
       "      <td>0</td>\n",
       "      <td>7.2500</td>\n",
       "      <td>1</td>\n",
       "      <td>0</td>\n",
       "      <td>1</td>\n",
       "    </tr>\n",
       "    <tr>\n",
       "      <th>1</th>\n",
       "      <td>1</td>\n",
       "      <td>38.0</td>\n",
       "      <td>1</td>\n",
       "      <td>0</td>\n",
       "      <td>71.2833</td>\n",
       "      <td>0</td>\n",
       "      <td>0</td>\n",
       "      <td>0</td>\n",
       "    </tr>\n",
       "    <tr>\n",
       "      <th>2</th>\n",
       "      <td>1</td>\n",
       "      <td>26.0</td>\n",
       "      <td>0</td>\n",
       "      <td>0</td>\n",
       "      <td>7.9250</td>\n",
       "      <td>0</td>\n",
       "      <td>0</td>\n",
       "      <td>1</td>\n",
       "    </tr>\n",
       "    <tr>\n",
       "      <th>3</th>\n",
       "      <td>1</td>\n",
       "      <td>35.0</td>\n",
       "      <td>1</td>\n",
       "      <td>0</td>\n",
       "      <td>53.1000</td>\n",
       "      <td>0</td>\n",
       "      <td>0</td>\n",
       "      <td>0</td>\n",
       "    </tr>\n",
       "    <tr>\n",
       "      <th>4</th>\n",
       "      <td>0</td>\n",
       "      <td>35.0</td>\n",
       "      <td>0</td>\n",
       "      <td>0</td>\n",
       "      <td>8.0500</td>\n",
       "      <td>1</td>\n",
       "      <td>0</td>\n",
       "      <td>1</td>\n",
       "    </tr>\n",
       "  </tbody>\n",
       "</table>\n",
       "</div>"
      ],
      "text/plain": [
       "   Survived   Age  Siblings/Spouses Aboard  Parents/Children Aboard     Fare  \\\n",
       "0         0  22.0                        1                        0   7.2500   \n",
       "1         1  38.0                        1                        0  71.2833   \n",
       "2         1  26.0                        0                        0   7.9250   \n",
       "3         1  35.0                        1                        0  53.1000   \n",
       "4         0  35.0                        0                        0   8.0500   \n",
       "\n",
       "   male  Pclass2  Pclass3  \n",
       "0     1        0        1  \n",
       "1     0        0        0  \n",
       "2     0        0        1  \n",
       "3     0        0        0  \n",
       "4     1        0        1  "
      ]
     },
     "execution_count": 487,
     "metadata": {},
     "output_type": "execute_result"
    }
   ],
   "source": [
    "# Converting Sex variable to one-hot encoding\n",
    "sex = pd.get_dummies(df['Sex'], drop_first=True)\n",
    "\n",
    "# Converting pClass variable to one-hot encoding\n",
    "pclass = pd.get_dummies(df['Pclass'], drop_first=True)\n",
    "pclass = pclass.rename(columns={2: 'Pclass2', 3: 'Pclass3'})\n",
    "\n",
    "# Concatenate all dataframes\n",
    "new_df = pd.concat([df, sex, pclass], axis=1)\n",
    "# Drop the repeated columns\n",
    "new_df = new_df.drop(columns=['Pclass', 'Sex'])\n",
    "new_df.head()"
   ]
  },
  {
   "cell_type": "markdown",
   "id": "083ae6db",
   "metadata": {},
   "source": [
    "### Divide the dataset"
   ]
  },
  {
   "cell_type": "markdown",
   "id": "042b1db9",
   "metadata": {},
   "source": [
    "We divide the dataset in training and test"
   ]
  },
  {
   "cell_type": "code",
   "execution_count": 488,
   "id": "0dd4e561",
   "metadata": {},
   "outputs": [
    {
     "data": {
      "text/plain": [
       "0    0\n",
       "1    1\n",
       "2    1\n",
       "3    1\n",
       "4    0\n",
       "Name: Survived, dtype: int64"
      ]
     },
     "execution_count": 488,
     "metadata": {},
     "output_type": "execute_result"
    }
   ],
   "source": [
    " # Separate the label/target variable\n",
    "y = new_df.Survived\n",
    "x = new_df.drop(columns=['Survived'], axis=1)\n",
    "\n",
    "y.head()"
   ]
  },
  {
   "cell_type": "code",
   "execution_count": 489,
   "id": "a4d9cd03",
   "metadata": {},
   "outputs": [
    {
     "data": {
      "text/html": [
       "<div>\n",
       "<style scoped>\n",
       "    .dataframe tbody tr th:only-of-type {\n",
       "        vertical-align: middle;\n",
       "    }\n",
       "\n",
       "    .dataframe tbody tr th {\n",
       "        vertical-align: top;\n",
       "    }\n",
       "\n",
       "    .dataframe thead th {\n",
       "        text-align: right;\n",
       "    }\n",
       "</style>\n",
       "<table border=\"1\" class=\"dataframe\">\n",
       "  <thead>\n",
       "    <tr style=\"text-align: right;\">\n",
       "      <th></th>\n",
       "      <th>Age</th>\n",
       "      <th>Siblings/Spouses Aboard</th>\n",
       "      <th>Parents/Children Aboard</th>\n",
       "      <th>Fare</th>\n",
       "      <th>male</th>\n",
       "      <th>Pclass2</th>\n",
       "      <th>Pclass3</th>\n",
       "    </tr>\n",
       "  </thead>\n",
       "  <tbody>\n",
       "    <tr>\n",
       "      <th>0</th>\n",
       "      <td>22.0</td>\n",
       "      <td>1</td>\n",
       "      <td>0</td>\n",
       "      <td>7.2500</td>\n",
       "      <td>1</td>\n",
       "      <td>0</td>\n",
       "      <td>1</td>\n",
       "    </tr>\n",
       "    <tr>\n",
       "      <th>1</th>\n",
       "      <td>38.0</td>\n",
       "      <td>1</td>\n",
       "      <td>0</td>\n",
       "      <td>71.2833</td>\n",
       "      <td>0</td>\n",
       "      <td>0</td>\n",
       "      <td>0</td>\n",
       "    </tr>\n",
       "    <tr>\n",
       "      <th>2</th>\n",
       "      <td>26.0</td>\n",
       "      <td>0</td>\n",
       "      <td>0</td>\n",
       "      <td>7.9250</td>\n",
       "      <td>0</td>\n",
       "      <td>0</td>\n",
       "      <td>1</td>\n",
       "    </tr>\n",
       "    <tr>\n",
       "      <th>3</th>\n",
       "      <td>35.0</td>\n",
       "      <td>1</td>\n",
       "      <td>0</td>\n",
       "      <td>53.1000</td>\n",
       "      <td>0</td>\n",
       "      <td>0</td>\n",
       "      <td>0</td>\n",
       "    </tr>\n",
       "    <tr>\n",
       "      <th>4</th>\n",
       "      <td>35.0</td>\n",
       "      <td>0</td>\n",
       "      <td>0</td>\n",
       "      <td>8.0500</td>\n",
       "      <td>1</td>\n",
       "      <td>0</td>\n",
       "      <td>1</td>\n",
       "    </tr>\n",
       "  </tbody>\n",
       "</table>\n",
       "</div>"
      ],
      "text/plain": [
       "    Age  Siblings/Spouses Aboard  Parents/Children Aboard     Fare  male  \\\n",
       "0  22.0                        1                        0   7.2500     1   \n",
       "1  38.0                        1                        0  71.2833     0   \n",
       "2  26.0                        0                        0   7.9250     0   \n",
       "3  35.0                        1                        0  53.1000     0   \n",
       "4  35.0                        0                        0   8.0500     1   \n",
       "\n",
       "   Pclass2  Pclass3  \n",
       "0        0        1  \n",
       "1        0        0  \n",
       "2        0        1  \n",
       "3        0        0  \n",
       "4        0        1  "
      ]
     },
     "execution_count": 489,
     "metadata": {},
     "output_type": "execute_result"
    }
   ],
   "source": [
    "x.head()"
   ]
  },
  {
   "cell_type": "code",
   "execution_count": 490,
   "id": "2c407259",
   "metadata": {},
   "outputs": [],
   "source": [
    "# PARAMETERS\n",
    "test_size = 0.2"
   ]
  },
  {
   "cell_type": "code",
   "execution_count": 491,
   "id": "0e531474",
   "metadata": {},
   "outputs": [
    {
     "name": "stdout",
     "output_type": "stream",
     "text": [
      "x_train (709, 7)\n",
      "x_test (178, 7)\n",
      "y_train (709,)\n",
      "y_test (178,)\n"
     ]
    }
   ],
   "source": [
    "x_train, x_test, y_train, y_test = train_test_split(x, y, test_size=test_size, random_state=10)\n",
    "print('x_train', x_train.shape)\n",
    "print('x_test', x_test.shape)\n",
    "print('y_train', y_train.shape)\n",
    "print('y_test', y_test.shape)"
   ]
  },
  {
   "cell_type": "markdown",
   "id": "d3e63118",
   "metadata": {},
   "source": [
    "### Train the model"
   ]
  },
  {
   "cell_type": "code",
   "execution_count": 492,
   "id": "673d6302",
   "metadata": {},
   "outputs": [],
   "source": [
    "# PARAMETERS\n",
    "n_estimators = 80\n",
    "criterion = 'entropy'"
   ]
  },
  {
   "cell_type": "code",
   "execution_count": 493,
   "id": "f9a5c648",
   "metadata": {},
   "outputs": [
    {
     "data": {
      "text/plain": [
       "RandomForestClassifier(criterion='entropy', n_estimators=80, random_state=10)"
      ]
     },
     "execution_count": 493,
     "metadata": {},
     "output_type": "execute_result"
    }
   ],
   "source": [
    "classifier = RandomForestClassifier(n_estimators=n_estimators, criterion=criterion, random_state=10)\n",
    "classifier.fit(x_train, y_train)"
   ]
  },
  {
   "cell_type": "markdown",
   "id": "d7f20fbb",
   "metadata": {},
   "source": [
    "## 3. Evaluation and Test"
   ]
  },
  {
   "cell_type": "markdown",
   "id": "a6374bea",
   "metadata": {},
   "source": [
    "### Predict Test Results"
   ]
  },
  {
   "cell_type": "code",
   "execution_count": 494,
   "id": "1745888e",
   "metadata": {},
   "outputs": [
    {
     "data": {
      "text/plain": [
       "array([1, 0, 0, 0, 1, 0, 0, 0, 0, 1, 1, 1, 0, 0, 0, 1, 0, 0, 0, 0, 0, 0,\n",
       "       1, 0, 0, 0, 0, 1, 1, 1, 0, 1, 0, 0, 0, 0, 1, 0, 0, 0, 0, 0, 0, 1,\n",
       "       0, 0, 0, 0, 0, 0, 0, 0, 1, 1, 1, 1, 0, 0, 1, 1, 1, 0, 0, 0, 0, 0,\n",
       "       0, 1, 0, 1, 1, 0, 0, 0, 0, 1, 0, 1, 0, 1, 1, 1, 0, 0, 0, 1, 1, 0,\n",
       "       0, 0, 1, 0, 0, 1, 0, 0, 0, 0, 0, 0, 0, 1, 0, 1, 1, 0, 1, 0, 0, 0,\n",
       "       0, 0, 0, 0, 1, 0, 0, 0, 0, 0, 1, 0, 0, 0, 0, 0, 0, 1, 1, 1, 0, 0,\n",
       "       1, 0, 1, 0, 1, 0, 1, 0, 0, 1, 0, 0, 0, 0, 0, 0, 1, 0, 1, 1, 0, 0,\n",
       "       0, 0, 1, 0, 1, 1, 0, 0, 1, 0, 1, 0, 1, 0, 0, 1, 0, 0, 0, 0, 1, 1,\n",
       "       1, 1], dtype=int64)"
      ]
     },
     "execution_count": 494,
     "metadata": {},
     "output_type": "execute_result"
    }
   ],
   "source": [
    "y_pred = classifier.predict(x_test)\n",
    "y_pred"
   ]
  },
  {
   "cell_type": "markdown",
   "id": "51e4db1e",
   "metadata": {},
   "source": [
    "### Confusion Matrix"
   ]
  },
  {
   "cell_type": "code",
   "execution_count": 495,
   "id": "a8a1d157",
   "metadata": {},
   "outputs": [
    {
     "name": "stdout",
     "output_type": "stream",
     "text": [
      "[[101  11]\n",
      " [ 17  49]]\n"
     ]
    }
   ],
   "source": [
    "cm = confusion_matrix(y_test, y_pred)\n",
    "print(cm)"
   ]
  },
  {
   "cell_type": "code",
   "execution_count": 496,
   "id": "d67cdea3",
   "metadata": {},
   "outputs": [
    {
     "name": "stdout",
     "output_type": "stream",
     "text": [
      "Test accuracy:  0.8426966292134831\n",
      "Train accuracy:  0.9802538787023978\n"
     ]
    }
   ],
   "source": [
    "print(\"Test accuracy: \", classifier.score(x_test, y_test))\n",
    "print(\"Train accuracy: \", classifier.score(x_train, y_train))"
   ]
  },
  {
   "cell_type": "code",
   "execution_count": 497,
   "id": "f4eaaaff",
   "metadata": {},
   "outputs": [
    {
     "name": "stdout",
     "output_type": "stream",
     "text": [
      "              precision    recall  f1-score   support\n",
      "\n",
      "           0       0.86      0.90      0.88       112\n",
      "           1       0.82      0.74      0.78        66\n",
      "\n",
      "    accuracy                           0.84       178\n",
      "   macro avg       0.84      0.82      0.83       178\n",
      "weighted avg       0.84      0.84      0.84       178\n",
      "\n"
     ]
    }
   ],
   "source": [
    "print(classification_report(y_test, y_pred))"
   ]
  },
  {
   "cell_type": "markdown",
   "id": "d77c3fe0",
   "metadata": {},
   "source": [
    "We get a test accuracy of 0.84 which is quite good for the kind of problem we are dealing with. The precission is a little bit higher when classifying passengers that didn't survive but nothing too relatable. On the other hand we see that the recall is notably higher when classifying the passengers that didn't survive which means the model has more confidence when classifying a passenger as a defunction."
   ]
  },
  {
   "cell_type": "markdown",
   "id": "3d8093ad",
   "metadata": {},
   "source": [
    "### Tree interpretation"
   ]
  },
  {
   "cell_type": "code",
   "execution_count": 498,
   "id": "f2b45170",
   "metadata": {},
   "outputs": [
    {
     "name": "stderr",
     "output_type": "stream",
     "text": [
      "D:\\Program Files\\Anaconda3\\lib\\site-packages\\sklearn\\base.py:443: UserWarning: X has feature names, but DecisionTreeClassifier was fitted without feature names\n",
      "  warnings.warn(\n",
      "D:\\Program Files\\Anaconda3\\lib\\site-packages\\sklearn\\base.py:443: UserWarning: X has feature names, but DecisionTreeClassifier was fitted without feature names\n",
      "  warnings.warn(\n",
      "D:\\Program Files\\Anaconda3\\lib\\site-packages\\sklearn\\base.py:443: UserWarning: X has feature names, but DecisionTreeClassifier was fitted without feature names\n",
      "  warnings.warn(\n",
      "D:\\Program Files\\Anaconda3\\lib\\site-packages\\sklearn\\base.py:443: UserWarning: X has feature names, but DecisionTreeClassifier was fitted without feature names\n",
      "  warnings.warn(\n",
      "D:\\Program Files\\Anaconda3\\lib\\site-packages\\sklearn\\base.py:443: UserWarning: X has feature names, but DecisionTreeClassifier was fitted without feature names\n",
      "  warnings.warn(\n",
      "D:\\Program Files\\Anaconda3\\lib\\site-packages\\sklearn\\base.py:443: UserWarning: X has feature names, but DecisionTreeClassifier was fitted without feature names\n",
      "  warnings.warn(\n",
      "D:\\Program Files\\Anaconda3\\lib\\site-packages\\sklearn\\base.py:443: UserWarning: X has feature names, but DecisionTreeClassifier was fitted without feature names\n",
      "  warnings.warn(\n",
      "D:\\Program Files\\Anaconda3\\lib\\site-packages\\sklearn\\base.py:443: UserWarning: X has feature names, but DecisionTreeClassifier was fitted without feature names\n",
      "  warnings.warn(\n",
      "D:\\Program Files\\Anaconda3\\lib\\site-packages\\sklearn\\base.py:443: UserWarning: X has feature names, but DecisionTreeClassifier was fitted without feature names\n",
      "  warnings.warn(\n",
      "D:\\Program Files\\Anaconda3\\lib\\site-packages\\sklearn\\base.py:443: UserWarning: X has feature names, but DecisionTreeClassifier was fitted without feature names\n",
      "  warnings.warn(\n",
      "D:\\Program Files\\Anaconda3\\lib\\site-packages\\sklearn\\base.py:443: UserWarning: X has feature names, but DecisionTreeClassifier was fitted without feature names\n",
      "  warnings.warn(\n",
      "D:\\Program Files\\Anaconda3\\lib\\site-packages\\sklearn\\base.py:443: UserWarning: X has feature names, but DecisionTreeClassifier was fitted without feature names\n",
      "  warnings.warn(\n",
      "D:\\Program Files\\Anaconda3\\lib\\site-packages\\sklearn\\base.py:443: UserWarning: X has feature names, but DecisionTreeClassifier was fitted without feature names\n",
      "  warnings.warn(\n",
      "D:\\Program Files\\Anaconda3\\lib\\site-packages\\sklearn\\base.py:443: UserWarning: X has feature names, but DecisionTreeClassifier was fitted without feature names\n",
      "  warnings.warn(\n",
      "D:\\Program Files\\Anaconda3\\lib\\site-packages\\sklearn\\base.py:443: UserWarning: X has feature names, but DecisionTreeClassifier was fitted without feature names\n",
      "  warnings.warn(\n",
      "D:\\Program Files\\Anaconda3\\lib\\site-packages\\sklearn\\base.py:443: UserWarning: X has feature names, but DecisionTreeClassifier was fitted without feature names\n",
      "  warnings.warn(\n",
      "D:\\Program Files\\Anaconda3\\lib\\site-packages\\sklearn\\base.py:443: UserWarning: X has feature names, but DecisionTreeClassifier was fitted without feature names\n",
      "  warnings.warn(\n",
      "D:\\Program Files\\Anaconda3\\lib\\site-packages\\sklearn\\base.py:443: UserWarning: X has feature names, but DecisionTreeClassifier was fitted without feature names\n",
      "  warnings.warn(\n",
      "D:\\Program Files\\Anaconda3\\lib\\site-packages\\sklearn\\base.py:443: UserWarning: X has feature names, but DecisionTreeClassifier was fitted without feature names\n",
      "  warnings.warn(\n",
      "D:\\Program Files\\Anaconda3\\lib\\site-packages\\sklearn\\base.py:443: UserWarning: X has feature names, but DecisionTreeClassifier was fitted without feature names\n",
      "  warnings.warn(\n",
      "D:\\Program Files\\Anaconda3\\lib\\site-packages\\sklearn\\base.py:443: UserWarning: X has feature names, but DecisionTreeClassifier was fitted without feature names\n",
      "  warnings.warn(\n",
      "D:\\Program Files\\Anaconda3\\lib\\site-packages\\sklearn\\base.py:443: UserWarning: X has feature names, but DecisionTreeClassifier was fitted without feature names\n",
      "  warnings.warn(\n",
      "D:\\Program Files\\Anaconda3\\lib\\site-packages\\sklearn\\base.py:443: UserWarning: X has feature names, but DecisionTreeClassifier was fitted without feature names\n",
      "  warnings.warn(\n",
      "D:\\Program Files\\Anaconda3\\lib\\site-packages\\sklearn\\base.py:443: UserWarning: X has feature names, but DecisionTreeClassifier was fitted without feature names\n",
      "  warnings.warn(\n",
      "D:\\Program Files\\Anaconda3\\lib\\site-packages\\sklearn\\base.py:443: UserWarning: X has feature names, but DecisionTreeClassifier was fitted without feature names\n",
      "  warnings.warn(\n",
      "D:\\Program Files\\Anaconda3\\lib\\site-packages\\sklearn\\base.py:443: UserWarning: X has feature names, but DecisionTreeClassifier was fitted without feature names\n",
      "  warnings.warn(\n",
      "D:\\Program Files\\Anaconda3\\lib\\site-packages\\sklearn\\base.py:443: UserWarning: X has feature names, but DecisionTreeClassifier was fitted without feature names\n",
      "  warnings.warn(\n",
      "D:\\Program Files\\Anaconda3\\lib\\site-packages\\sklearn\\base.py:443: UserWarning: X has feature names, but DecisionTreeClassifier was fitted without feature names\n",
      "  warnings.warn(\n",
      "D:\\Program Files\\Anaconda3\\lib\\site-packages\\sklearn\\base.py:443: UserWarning: X has feature names, but DecisionTreeClassifier was fitted without feature names\n",
      "  warnings.warn(\n",
      "D:\\Program Files\\Anaconda3\\lib\\site-packages\\sklearn\\base.py:443: UserWarning: X has feature names, but DecisionTreeClassifier was fitted without feature names\n",
      "  warnings.warn(\n",
      "D:\\Program Files\\Anaconda3\\lib\\site-packages\\sklearn\\base.py:443: UserWarning: X has feature names, but DecisionTreeClassifier was fitted without feature names\n",
      "  warnings.warn(\n",
      "D:\\Program Files\\Anaconda3\\lib\\site-packages\\sklearn\\base.py:443: UserWarning: X has feature names, but DecisionTreeClassifier was fitted without feature names\n",
      "  warnings.warn(\n",
      "D:\\Program Files\\Anaconda3\\lib\\site-packages\\sklearn\\base.py:443: UserWarning: X has feature names, but DecisionTreeClassifier was fitted without feature names\n",
      "  warnings.warn(\n",
      "D:\\Program Files\\Anaconda3\\lib\\site-packages\\sklearn\\base.py:443: UserWarning: X has feature names, but DecisionTreeClassifier was fitted without feature names\n",
      "  warnings.warn(\n",
      "D:\\Program Files\\Anaconda3\\lib\\site-packages\\sklearn\\base.py:443: UserWarning: X has feature names, but DecisionTreeClassifier was fitted without feature names\n",
      "  warnings.warn(\n",
      "D:\\Program Files\\Anaconda3\\lib\\site-packages\\sklearn\\base.py:443: UserWarning: X has feature names, but DecisionTreeClassifier was fitted without feature names\n",
      "  warnings.warn(\n",
      "D:\\Program Files\\Anaconda3\\lib\\site-packages\\sklearn\\base.py:443: UserWarning: X has feature names, but DecisionTreeClassifier was fitted without feature names\n",
      "  warnings.warn(\n",
      "D:\\Program Files\\Anaconda3\\lib\\site-packages\\sklearn\\base.py:443: UserWarning: X has feature names, but DecisionTreeClassifier was fitted without feature names\n",
      "  warnings.warn(\n",
      "D:\\Program Files\\Anaconda3\\lib\\site-packages\\sklearn\\base.py:443: UserWarning: X has feature names, but DecisionTreeClassifier was fitted without feature names\n",
      "  warnings.warn(\n",
      "D:\\Program Files\\Anaconda3\\lib\\site-packages\\sklearn\\base.py:443: UserWarning: X has feature names, but DecisionTreeClassifier was fitted without feature names\n",
      "  warnings.warn(\n",
      "D:\\Program Files\\Anaconda3\\lib\\site-packages\\sklearn\\base.py:443: UserWarning: X has feature names, but DecisionTreeClassifier was fitted without feature names\n",
      "  warnings.warn(\n",
      "D:\\Program Files\\Anaconda3\\lib\\site-packages\\sklearn\\base.py:443: UserWarning: X has feature names, but DecisionTreeClassifier was fitted without feature names\n",
      "  warnings.warn(\n",
      "D:\\Program Files\\Anaconda3\\lib\\site-packages\\sklearn\\base.py:443: UserWarning: X has feature names, but DecisionTreeClassifier was fitted without feature names\n",
      "  warnings.warn(\n",
      "D:\\Program Files\\Anaconda3\\lib\\site-packages\\sklearn\\base.py:443: UserWarning: X has feature names, but DecisionTreeClassifier was fitted without feature names\n",
      "  warnings.warn(\n",
      "D:\\Program Files\\Anaconda3\\lib\\site-packages\\sklearn\\base.py:443: UserWarning: X has feature names, but DecisionTreeClassifier was fitted without feature names\n",
      "  warnings.warn(\n",
      "D:\\Program Files\\Anaconda3\\lib\\site-packages\\sklearn\\base.py:443: UserWarning: X has feature names, but DecisionTreeClassifier was fitted without feature names\n",
      "  warnings.warn(\n",
      "D:\\Program Files\\Anaconda3\\lib\\site-packages\\sklearn\\base.py:443: UserWarning: X has feature names, but DecisionTreeClassifier was fitted without feature names\n",
      "  warnings.warn(\n",
      "D:\\Program Files\\Anaconda3\\lib\\site-packages\\sklearn\\base.py:443: UserWarning: X has feature names, but DecisionTreeClassifier was fitted without feature names\n",
      "  warnings.warn(\n",
      "D:\\Program Files\\Anaconda3\\lib\\site-packages\\sklearn\\base.py:443: UserWarning: X has feature names, but DecisionTreeClassifier was fitted without feature names\n",
      "  warnings.warn(\n",
      "D:\\Program Files\\Anaconda3\\lib\\site-packages\\sklearn\\base.py:443: UserWarning: X has feature names, but DecisionTreeClassifier was fitted without feature names\n",
      "  warnings.warn(\n"
     ]
    },
    {
     "name": "stderr",
     "output_type": "stream",
     "text": [
      "D:\\Program Files\\Anaconda3\\lib\\site-packages\\sklearn\\base.py:443: UserWarning: X has feature names, but DecisionTreeClassifier was fitted without feature names\n",
      "  warnings.warn(\n",
      "D:\\Program Files\\Anaconda3\\lib\\site-packages\\sklearn\\base.py:443: UserWarning: X has feature names, but DecisionTreeClassifier was fitted without feature names\n",
      "  warnings.warn(\n",
      "D:\\Program Files\\Anaconda3\\lib\\site-packages\\sklearn\\base.py:443: UserWarning: X has feature names, but DecisionTreeClassifier was fitted without feature names\n",
      "  warnings.warn(\n",
      "D:\\Program Files\\Anaconda3\\lib\\site-packages\\sklearn\\base.py:443: UserWarning: X has feature names, but DecisionTreeClassifier was fitted without feature names\n",
      "  warnings.warn(\n",
      "D:\\Program Files\\Anaconda3\\lib\\site-packages\\sklearn\\base.py:443: UserWarning: X has feature names, but DecisionTreeClassifier was fitted without feature names\n",
      "  warnings.warn(\n",
      "D:\\Program Files\\Anaconda3\\lib\\site-packages\\sklearn\\base.py:443: UserWarning: X has feature names, but DecisionTreeClassifier was fitted without feature names\n",
      "  warnings.warn(\n",
      "D:\\Program Files\\Anaconda3\\lib\\site-packages\\sklearn\\base.py:443: UserWarning: X has feature names, but DecisionTreeClassifier was fitted without feature names\n",
      "  warnings.warn(\n",
      "D:\\Program Files\\Anaconda3\\lib\\site-packages\\sklearn\\base.py:443: UserWarning: X has feature names, but DecisionTreeClassifier was fitted without feature names\n",
      "  warnings.warn(\n",
      "D:\\Program Files\\Anaconda3\\lib\\site-packages\\sklearn\\base.py:443: UserWarning: X has feature names, but DecisionTreeClassifier was fitted without feature names\n",
      "  warnings.warn(\n",
      "D:\\Program Files\\Anaconda3\\lib\\site-packages\\sklearn\\base.py:443: UserWarning: X has feature names, but DecisionTreeClassifier was fitted without feature names\n",
      "  warnings.warn(\n",
      "D:\\Program Files\\Anaconda3\\lib\\site-packages\\sklearn\\base.py:443: UserWarning: X has feature names, but DecisionTreeClassifier was fitted without feature names\n",
      "  warnings.warn(\n",
      "D:\\Program Files\\Anaconda3\\lib\\site-packages\\sklearn\\base.py:443: UserWarning: X has feature names, but DecisionTreeClassifier was fitted without feature names\n",
      "  warnings.warn(\n",
      "D:\\Program Files\\Anaconda3\\lib\\site-packages\\sklearn\\base.py:443: UserWarning: X has feature names, but DecisionTreeClassifier was fitted without feature names\n",
      "  warnings.warn(\n",
      "D:\\Program Files\\Anaconda3\\lib\\site-packages\\sklearn\\base.py:443: UserWarning: X has feature names, but DecisionTreeClassifier was fitted without feature names\n",
      "  warnings.warn(\n",
      "D:\\Program Files\\Anaconda3\\lib\\site-packages\\sklearn\\base.py:443: UserWarning: X has feature names, but DecisionTreeClassifier was fitted without feature names\n",
      "  warnings.warn(\n",
      "D:\\Program Files\\Anaconda3\\lib\\site-packages\\sklearn\\base.py:443: UserWarning: X has feature names, but DecisionTreeClassifier was fitted without feature names\n",
      "  warnings.warn(\n",
      "D:\\Program Files\\Anaconda3\\lib\\site-packages\\sklearn\\base.py:443: UserWarning: X has feature names, but DecisionTreeClassifier was fitted without feature names\n",
      "  warnings.warn(\n",
      "D:\\Program Files\\Anaconda3\\lib\\site-packages\\sklearn\\base.py:443: UserWarning: X has feature names, but DecisionTreeClassifier was fitted without feature names\n",
      "  warnings.warn(\n",
      "D:\\Program Files\\Anaconda3\\lib\\site-packages\\sklearn\\base.py:443: UserWarning: X has feature names, but DecisionTreeClassifier was fitted without feature names\n",
      "  warnings.warn(\n",
      "D:\\Program Files\\Anaconda3\\lib\\site-packages\\sklearn\\base.py:443: UserWarning: X has feature names, but DecisionTreeClassifier was fitted without feature names\n",
      "  warnings.warn(\n",
      "D:\\Program Files\\Anaconda3\\lib\\site-packages\\sklearn\\base.py:443: UserWarning: X has feature names, but DecisionTreeClassifier was fitted without feature names\n",
      "  warnings.warn(\n",
      "D:\\Program Files\\Anaconda3\\lib\\site-packages\\sklearn\\base.py:443: UserWarning: X has feature names, but DecisionTreeClassifier was fitted without feature names\n",
      "  warnings.warn(\n",
      "D:\\Program Files\\Anaconda3\\lib\\site-packages\\sklearn\\base.py:443: UserWarning: X has feature names, but DecisionTreeClassifier was fitted without feature names\n",
      "  warnings.warn(\n",
      "D:\\Program Files\\Anaconda3\\lib\\site-packages\\sklearn\\base.py:443: UserWarning: X has feature names, but DecisionTreeClassifier was fitted without feature names\n",
      "  warnings.warn(\n",
      "D:\\Program Files\\Anaconda3\\lib\\site-packages\\sklearn\\base.py:443: UserWarning: X has feature names, but DecisionTreeClassifier was fitted without feature names\n",
      "  warnings.warn(\n",
      "D:\\Program Files\\Anaconda3\\lib\\site-packages\\sklearn\\base.py:443: UserWarning: X has feature names, but DecisionTreeClassifier was fitted without feature names\n",
      "  warnings.warn(\n",
      "D:\\Program Files\\Anaconda3\\lib\\site-packages\\sklearn\\base.py:443: UserWarning: X has feature names, but DecisionTreeClassifier was fitted without feature names\n",
      "  warnings.warn(\n",
      "D:\\Program Files\\Anaconda3\\lib\\site-packages\\sklearn\\base.py:443: UserWarning: X has feature names, but DecisionTreeClassifier was fitted without feature names\n",
      "  warnings.warn(\n",
      "D:\\Program Files\\Anaconda3\\lib\\site-packages\\sklearn\\base.py:443: UserWarning: X has feature names, but DecisionTreeClassifier was fitted without feature names\n",
      "  warnings.warn(\n",
      "D:\\Program Files\\Anaconda3\\lib\\site-packages\\sklearn\\base.py:443: UserWarning: X has feature names, but DecisionTreeClassifier was fitted without feature names\n",
      "  warnings.warn(\n"
     ]
    }
   ],
   "source": [
    "prediction, bias, contributions = ti.predict(classifier, x_test)"
   ]
  },
  {
   "cell_type": "code",
   "execution_count": 499,
   "id": "a8307718",
   "metadata": {},
   "outputs": [
    {
     "name": "stdout",
     "output_type": "stream",
     "text": [
      "(178, 2) (178, 2) (178, 7, 2)\n"
     ]
    }
   ],
   "source": [
    "print(prediction.shape, bias.shape, contributions.shape)"
   ]
  },
  {
   "cell_type": "code",
   "execution_count": 500,
   "id": "ebd9b4ad",
   "metadata": {},
   "outputs": [
    {
     "name": "stdout",
     "output_type": "stream",
     "text": [
      "Prediction Based on Bias & Contributions : 0.00\n",
      "Actual Target Value                      : 0.00\n",
      "Target Value As Per Treeinterpreter      : 0.00\n",
      "Contributions For Sample 408             : \n"
     ]
    },
    {
     "data": {
      "text/html": [
       "<div>\n",
       "<style scoped>\n",
       "    .dataframe tbody tr th:only-of-type {\n",
       "        vertical-align: middle;\n",
       "    }\n",
       "\n",
       "    .dataframe tbody tr th {\n",
       "        vertical-align: top;\n",
       "    }\n",
       "\n",
       "    .dataframe thead th {\n",
       "        text-align: right;\n",
       "    }\n",
       "</style>\n",
       "<table border=\"1\" class=\"dataframe\">\n",
       "  <thead>\n",
       "    <tr style=\"text-align: right;\">\n",
       "      <th></th>\n",
       "      <th>Contributions_0</th>\n",
       "      <th>Contributions_1</th>\n",
       "    </tr>\n",
       "  </thead>\n",
       "  <tbody>\n",
       "    <tr>\n",
       "      <th>Bias</th>\n",
       "      <td>0.609185</td>\n",
       "      <td>3.908145e-01</td>\n",
       "    </tr>\n",
       "    <tr>\n",
       "      <th>Age</th>\n",
       "      <td>0.069902</td>\n",
       "      <td>-6.990169e-02</td>\n",
       "    </tr>\n",
       "    <tr>\n",
       "      <th>Siblings/Spouses Aboard</th>\n",
       "      <td>-0.000242</td>\n",
       "      <td>2.424152e-04</td>\n",
       "    </tr>\n",
       "    <tr>\n",
       "      <th>Parents/Children Aboard</th>\n",
       "      <td>0.007007</td>\n",
       "      <td>-7.006742e-03</td>\n",
       "    </tr>\n",
       "    <tr>\n",
       "      <th>Fare</th>\n",
       "      <td>0.150524</td>\n",
       "      <td>-1.505238e-01</td>\n",
       "    </tr>\n",
       "    <tr>\n",
       "      <th>male</th>\n",
       "      <td>0.123568</td>\n",
       "      <td>-1.235680e-01</td>\n",
       "    </tr>\n",
       "    <tr>\n",
       "      <th>Pclass2</th>\n",
       "      <td>0.003277</td>\n",
       "      <td>-3.277494e-03</td>\n",
       "    </tr>\n",
       "    <tr>\n",
       "      <th>Pclass3</th>\n",
       "      <td>0.036779</td>\n",
       "      <td>-3.677925e-02</td>\n",
       "    </tr>\n",
       "    <tr>\n",
       "      <th>Prediction</th>\n",
       "      <td>1.000000</td>\n",
       "      <td>-9.020562e-17</td>\n",
       "    </tr>\n",
       "  </tbody>\n",
       "</table>\n",
       "</div>"
      ],
      "text/plain": [
       "                         Contributions_0  Contributions_1\n",
       "Bias                            0.609185     3.908145e-01\n",
       "Age                             0.069902    -6.990169e-02\n",
       "Siblings/Spouses Aboard        -0.000242     2.424152e-04\n",
       "Parents/Children Aboard         0.007007    -7.006742e-03\n",
       "Fare                            0.150524    -1.505238e-01\n",
       "male                            0.123568    -1.235680e-01\n",
       "Pclass2                         0.003277    -3.277494e-03\n",
       "Pclass3                         0.036779    -3.677925e-02\n",
       "Prediction                      1.000000    -9.020562e-17"
      ]
     },
     "execution_count": 500,
     "metadata": {},
     "output_type": "execute_result"
    }
   ],
   "source": [
    "# Pick a random sample\n",
    "idx = random.randrange(0, len(y_test))\n",
    "\n",
    "# Analyse it's prediction process\n",
    "\n",
    "print(\"Prediction Based on Bias & Contributions : %.2f\"%np.argmax((bias[idx] + contributions[idx].sum(axis=0))))\n",
    "print(\"Actual Target Value                      : %.2f\"%y_test[y_test.index[idx]])\n",
    "print(\"Target Value As Per Treeinterpreter      : %.2f\"%np.argmax(prediction[idx]))\n",
    "\n",
    "# Print contributions\n",
    "attribute_names = x_test.columns\n",
    "print(\"Contributions For Sample %s             : \"%y_test.index[idx])\n",
    "con = contributions[idx].tolist()\n",
    "con.insert(0, bias[idx])\n",
    "con = np.array(con)\n",
    "con_df = pd.DataFrame(data=con, index=[\"Bias\"] + attribute_names.tolist(), columns=[\"Contributions_0\", \"Contributions_1\"])\n",
    "pred = con_df[[\"Contributions_0\", \"Contributions_1\"]].sum()\n",
    "con_df.loc[\"Prediction\"] = pred\n",
    "con_df"
   ]
  },
  {
   "cell_type": "markdown",
   "id": "baba2467",
   "metadata": {},
   "source": [
    "Treeinterpreter library allows as to approximate how the different attributes affect how the model classifies the samples. If we look at how each attribute contributes to the decission of whether a passenger survived or not to the Titanic we can extract interesting conclusions. \n",
    "\n",
    "First, we see that the model is clearly biased to classify any random passenger as a defunction. This is probably due to the fact that the crash was a disaster and more people died than survived. Besides the bias, the attribute that clearly contributes to every decission is the gender of the passenger. As we saw at the beginning, we find a clear difference between the ammount of deadly victims that were women versus the ones that were men. \n",
    "\n",
    "The second attribute that affect the most is the Fare's price (when not it is the passenger's class, attributes that as we saw are very related). This also corroborates the data that we saw before, which showed that higher the fare's price (or higher the passenger's class) the more probable the passenger was to survive. \n",
    "\n",
    "Finally, the third attribute tha contributes the most is the age, which, in fact affects specially in certain ranges. "
   ]
  },
  {
   "cell_type": "markdown",
   "id": "2fd406fb",
   "metadata": {},
   "source": [
    "## Conclusions:"
   ]
  },
  {
   "cell_type": "markdown",
   "id": "e07d3b76",
   "metadata": {},
   "source": [
    "We have learned severall lllthings about what helped the passengers to survive Titanic's crash or doomed them instead. Clearly the gender key, but, although women had a clear tendency to survive mush more than men this is most probably just because women were priorized at the time of ship's evacuation. If we look for Titanic's crash report we read: \"Sobre las 00:10 comienza la evacuación en los botes, ordenándose embarcar primero a mujeres y niños\" (Link to the source below). That allowed them and their children to have higher survival chances.\n",
    "\n",
    "Then we find the thing with fares and passenger classes. Probably the same happens here. Higher class passengers had a higher survival ratio either because they were prioritized at the evacuation time or they got to the main deck first because their cabins were in superior deck levels than the ones of lower class passengers.\n",
    "\n",
    "If we return to the initial goal, how could we use the things we learned to design a security protocol for future transatlantic trips? Well, clearly the passengers that had higher chances of survival were the ones that were evacuated first. Then it makes sense to focus on building better evacuation pathways and improving the tools and protols of evacuation. I think how the passengers should be priorized is more of a moral question and should be discussed far more deeply. "
   ]
  }
 ],
 "metadata": {
  "kernelspec": {
   "display_name": "Python 3 (ipykernel)",
   "language": "python",
   "name": "python3"
  },
  "language_info": {
   "codemirror_mode": {
    "name": "ipython",
    "version": 3
   },
   "file_extension": ".py",
   "mimetype": "text/x-python",
   "name": "python",
   "nbconvert_exporter": "python",
   "pygments_lexer": "ipython3",
   "version": "3.9.12"
  }
 },
 "nbformat": 4,
 "nbformat_minor": 5
}
