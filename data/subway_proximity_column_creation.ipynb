{
 "cells": [
  {
   "cell_type": "code",
   "execution_count": 1,
   "metadata": {},
   "outputs": [],
   "source": [
    "import pandas as pd"
   ]
  },
  {
   "cell_type": "code",
   "execution_count": 16,
   "metadata": {},
   "outputs": [
    {
     "data": {
      "text/html": [
       "<div>\n",
       "<style scoped>\n",
       "    .dataframe tbody tr th:only-of-type {\n",
       "        vertical-align: middle;\n",
       "    }\n",
       "\n",
       "    .dataframe tbody tr th {\n",
       "        vertical-align: top;\n",
       "    }\n",
       "\n",
       "    .dataframe thead th {\n",
       "        text-align: right;\n",
       "    }\n",
       "</style>\n",
       "<table border=\"1\" class=\"dataframe\">\n",
       "  <thead>\n",
       "    <tr style=\"text-align: right;\">\n",
       "      <th></th>\n",
       "      <th>id</th>\n",
       "    </tr>\n",
       "  </thead>\n",
       "  <tbody>\n",
       "    <tr>\n",
       "      <th>0</th>\n",
       "      <td>2539</td>\n",
       "    </tr>\n",
       "    <tr>\n",
       "      <th>1</th>\n",
       "      <td>2595</td>\n",
       "    </tr>\n",
       "    <tr>\n",
       "      <th>2</th>\n",
       "      <td>3647</td>\n",
       "    </tr>\n",
       "    <tr>\n",
       "      <th>3</th>\n",
       "      <td>3831</td>\n",
       "    </tr>\n",
       "    <tr>\n",
       "      <th>4</th>\n",
       "      <td>5022</td>\n",
       "    </tr>\n",
       "  </tbody>\n",
       "</table>\n",
       "</div>"
      ],
      "text/plain": [
       "     id\n",
       "0  2539\n",
       "1  2595\n",
       "2  3647\n",
       "3  3831\n",
       "4  5022"
      ]
     },
     "execution_count": 16,
     "metadata": {},
     "output_type": "execute_result"
    }
   ],
   "source": [
    "df = pd.read_csv('AB_NYC_2019.csv')\n",
    "\n",
    "df_id = df[['id']]\n",
    "df_id.head()"
   ]
  },
  {
   "cell_type": "code",
   "execution_count": 18,
   "metadata": {},
   "outputs": [
    {
     "name": "stderr",
     "output_type": "stream",
     "text": [
      "C:\\Users\\polam\\AppData\\Local\\Temp\\ipykernel_60044\\2561058558.py:41: SettingWithCopyWarning: \n",
      "A value is trying to be set on a copy of a slice from a DataFrame.\n",
      "Try using .loc[row_indexer,col_indexer] = value instead\n",
      "\n",
      "See the caveats in the documentation: https://pandas.pydata.org/pandas-docs/stable/user_guide/indexing.html#returning-a-view-versus-a-copy\n",
      "  df_id['subway_proximity'] = pd.Categorical(flat_groups, order)\n"
     ]
    }
   ],
   "source": [
    "rbnbs_100 = pd.read_csv('rbnb_100.csv')['id']\n",
    "rbnbs_200 = pd.read_csv('rbnb_200.csv')['id']\n",
    "rbnbs_300 = pd.read_csv('rbnb_300.csv')['id']\n",
    "rbnbs_400 = pd.read_csv('rbnb_400.csv')['id']\n",
    "rbnbs_500 = pd.read_csv('rbnb_500.csv')['id']\n",
    "rbnbs_600 = pd.read_csv('rbnb_600.csv')['id']\n",
    "rbnbs_700 = pd.read_csv('rbnb_700.csv')['id']\n",
    "rbnbs_800 = pd.read_csv('rbnb_800.csv')['id']\n",
    "rbnbs_900 = pd.read_csv('rbnb_900.csv')['id']\n",
    "rbnbs_1000 = pd.read_csv('rbnb_1000.csv')['id']\n",
    "\n",
    "flat_groups = []\n",
    "for flat in df_id['id']:\n",
    "    if flat in rbnbs_100.values:\n",
    "        flat_groups.append('100')\n",
    "    elif flat in rbnbs_200.values:\n",
    "        flat_groups.append('200')\n",
    "    elif flat in rbnbs_300.values:\n",
    "        flat_groups.append('300')\n",
    "    elif flat in rbnbs_400.values:\n",
    "        flat_groups.append('400')\n",
    "    elif flat in rbnbs_500.values:\n",
    "        flat_groups.append('500')\n",
    "    elif flat in rbnbs_600.values:\n",
    "        flat_groups.append('600')\n",
    "    elif flat in rbnbs_700.values:\n",
    "        flat_groups.append('700')\n",
    "    elif flat in rbnbs_800.values:\n",
    "        flat_groups.append('800')\n",
    "    elif flat in rbnbs_900.values:\n",
    "        flat_groups.append('900')\n",
    "    elif flat in rbnbs_1000.values:\n",
    "        flat_groups.append('1000')\n",
    "    else:\n",
    "        flat_groups.append('else')\n",
    "\n",
    "# Order in which we want each category to be represented\n",
    "order = list(map(str, list(range(100, 1100, 100))))\n",
    "order.append('else')\n",
    "\n",
    "df_id['subway_proximity'] = pd.Categorical(flat_groups, order)"
   ]
  },
  {
   "cell_type": "code",
   "execution_count": 19,
   "metadata": {},
   "outputs": [
    {
     "data": {
      "text/html": [
       "<div>\n",
       "<style scoped>\n",
       "    .dataframe tbody tr th:only-of-type {\n",
       "        vertical-align: middle;\n",
       "    }\n",
       "\n",
       "    .dataframe tbody tr th {\n",
       "        vertical-align: top;\n",
       "    }\n",
       "\n",
       "    .dataframe thead th {\n",
       "        text-align: right;\n",
       "    }\n",
       "</style>\n",
       "<table border=\"1\" class=\"dataframe\">\n",
       "  <thead>\n",
       "    <tr style=\"text-align: right;\">\n",
       "      <th></th>\n",
       "      <th>id</th>\n",
       "      <th>subway_proximity</th>\n",
       "    </tr>\n",
       "  </thead>\n",
       "  <tbody>\n",
       "    <tr>\n",
       "      <th>0</th>\n",
       "      <td>2539</td>\n",
       "      <td>700</td>\n",
       "    </tr>\n",
       "    <tr>\n",
       "      <th>1</th>\n",
       "      <td>2595</td>\n",
       "      <td>else</td>\n",
       "    </tr>\n",
       "    <tr>\n",
       "      <th>2</th>\n",
       "      <td>3647</td>\n",
       "      <td>500</td>\n",
       "    </tr>\n",
       "    <tr>\n",
       "      <th>3</th>\n",
       "      <td>3831</td>\n",
       "      <td>500</td>\n",
       "    </tr>\n",
       "    <tr>\n",
       "      <th>4</th>\n",
       "      <td>5022</td>\n",
       "      <td>300</td>\n",
       "    </tr>\n",
       "  </tbody>\n",
       "</table>\n",
       "</div>"
      ],
      "text/plain": [
       "     id subway_proximity\n",
       "0  2539              700\n",
       "1  2595             else\n",
       "2  3647              500\n",
       "3  3831              500\n",
       "4  5022              300"
      ]
     },
     "execution_count": 19,
     "metadata": {},
     "output_type": "execute_result"
    }
   ],
   "source": [
    "df_id.head()"
   ]
  },
  {
   "cell_type": "code",
   "execution_count": 20,
   "metadata": {},
   "outputs": [],
   "source": [
    "df_id.to_csv('subway_info.csv', index=False)"
   ]
  }
 ],
 "metadata": {
  "kernelspec": {
   "display_name": "Python 3",
   "language": "python",
   "name": "python3"
  },
  "language_info": {
   "codemirror_mode": {
    "name": "ipython",
    "version": 3
   },
   "file_extension": ".py",
   "mimetype": "text/x-python",
   "name": "python",
   "nbconvert_exporter": "python",
   "pygments_lexer": "ipython3",
   "version": "3.10.8"
  },
  "orig_nbformat": 4,
  "vscode": {
   "interpreter": {
    "hash": "7261ef2256d0bbad3a33b51ba7ae7ee2dbff0c2dd27379893b56ccbbcc481862"
   }
  }
 },
 "nbformat": 4,
 "nbformat_minor": 2
}
